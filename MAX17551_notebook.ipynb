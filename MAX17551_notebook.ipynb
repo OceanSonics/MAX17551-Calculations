{
 "cells": [
  {
   "cell_type": "markdown",
   "metadata": {},
   "source": [
    "# MAX17551 Circuit Calculations\n",
    "\n",
    "This workspace intends to parametrically solve for the passive components surrounding the MAX17551 in the Typical Application Circuit.\n",
    "\n",
    "## Circuit Diagram\n",
    "\n",
    "The Typical Application circuit is the following:\n",
    "\n",
    "![Typical Application Circuit](images/typical_application_circuit.png)\n",
    "\n",
    "## Pin Descriptions\n",
    "\n",
    "- **IN**: Switching Regulator Input. Connect a X7R 1μF ceramic capacitor from IN to GND for bypassing.\n",
    "\n",
    "- **EN/UVLO**: Active-High, Enable/Undervoltage-Detection Input. Pull EN/UVLO to GND to disable the regulator output. Connect EN/UVLO to IN for always-on operation. Connect a resistor-divider between IN, EN/UVLO, and GND to program the input voltage at which the device is enabled and turns on.\n",
    "\n",
    "- **RT/SYNC**: Oscillator Timing Resistor Input. Connect a resistor from RT/SYNC to GND to program the switching frequency from 100kHz to 2.2MHz. An external pulse can be applied to RT/SYNC through a coupling capacitor to synchronize the internal clock to the external pulse frequency.\n",
    "\n",
    "- **SS**: Soft-Start Capacitor Input. Connect a capacitor from SS to GND to set the soft-start time. Leave SS unconnected for default 5.1ms internal soft-start.\n",
    "\n",
    "- **FB**: Output Feedback Connection. Connect FB to a resistor-divider between VOUT and GND to set the output voltage.\n",
    "\n",
    "- **VOUT**: External Bias Input for Internal Control Circuitry. Decouple to GND with a 0.22μF capacitor and connect to output capacitor positive terminal with a 22.1Ω resistor for applications with an output voltage from 3.3V to 5V. Connect to GND for output voltages < 3.3V and > 5V.\n",
    "\n",
    "- **RESET**: Open-Drain Reset Output. Pull up RESET to an external power supply with an external resistor. RESET pulls low if FB voltage drops below 92% of its set value. RESET goes high-impedance 2ms after FB voltage rises above 95% of its set value.\n",
    "\n",
    "- **MODE**: PFM/PWM Mode-Selection Input. Connect MODE to GND to enable the fixed-frequency PWM operation. Leave MODE unconnected for light-load PFM operation.  Note that in PFM Mode, PWM mode will automatically be enabled when the load current reaches $I_{PFM} - \\frac{\\Delta I}{2}$\n",
    "\n",
    "- **GND**: Ground. Connect GND to the power ground plane. Connect all the circuit ground connections together at a single point.\n",
    "\n",
    "- **LX**: Inductor Connection. Connect LX to the switching-side of the inductor. LX is high-impedance when the device is in shutdown.\n",
    "\n",
    "- **EP**: Exposed Pad (TDFN Only). Connect to the GND pin to the IC."
   ]
  },
  {
   "cell_type": "code",
   "execution_count": 625,
   "metadata": {},
   "outputs": [],
   "source": [
    "# Parameter Definition - Change \n",
    "\n",
    "# Input Voltage\n",
    "MINIMUM_INPUT_VOLTAGE = 18.0 # V\n",
    "TYPICAL_INPUT_VOLTAGE = 24.0 # V\n",
    "MAXIMUM_INPUT_VOLTAGE = 48.0 # V\n",
    "\n",
    "# Output Voltage\n",
    "OUTPUT_VOLTAGE = 3.3 # V\n",
    "\n",
    "MAXIMUM_LOAD_CURRENT = 0.100 # A\n",
    "\n",
    "INDUCTOR_RESISTANCE = 0.7 # Ω - Use 1.0 Ω at first, then fine tune with the actual inductor resistance\n",
    "\n",
    "SOFT_START_TIME = 5.1 # ms - Leave floating for 5.1 ms\n",
    "\n",
    "# Switching Frequency\n",
    "SWITCHING_FREQUENCY = 500.0 # kHz"
   ]
  },
  {
   "cell_type": "code",
   "execution_count": 626,
   "metadata": {},
   "outputs": [],
   "source": [
    "# Constant Definitions\n",
    "\n",
    "ENABLE_THRESHOLD_RISING_MINIMUM = 1.2   # V\n",
    "ENABLE_THRESHOLD_RISING_TYPICAL = 1.25  # V\n",
    "ENABLE_THRESHOLD_RISING_MAXIMUM = 1.3   # V\n",
    "\n",
    "ENABLE_THRESHOLD_FALLING_MINIMUM = 1.1  # V\n",
    "ENABLE_THRESHOLD_FALLING_TYPICAL = 1.15 # V\n",
    "ENABLE_THRESHOLD_FALLING_MAXIMUM = 1.2  # V\n",
    "\n",
    "MAXIMUM_DUTY_CYCLE = 0.9\n",
    "MINIMUM_CONTROLLABLE_ON_TIME = 128.0 # ns\n",
    "\n",
    "MINIMUM_SOFT_START_TIME = 5.1 # ms\n",
    "\n",
    "MINIMUM_INPUT_CAPACITANCE = 1.0 # uF\n",
    "\n",
    "DECOUPLE_CAPACITANCE = 1.0 # uF\n",
    "DECOUPLE_RESISTANCE = 0.0221 # kΩ\n",
    "PULLUP_RESISTANCE = 100.0 # kΩ"
   ]
  },
  {
   "cell_type": "markdown",
   "metadata": {},
   "source": [
    "## Input Voltage Bounds\n",
    "\n",
    "The absolute minimum and maximum input voltages depend on the output voltage, the maximum output current, the inductor resistance, and the switching frequency.\n",
    "\n",
    "$$V_{INMIN} = \\frac{V_{OUT}+(I_{OUT}\\times (R_{DCR} + 5))}{D_{MAX}}+(I_{OUT}\\times 4.5)$$\n",
    "$$V_{INMAX} = \\frac{V_{OUT}}{t_{ONMIN}\\times f_{SW}}$$\n",
    "\n",
    "Where:\n",
    "\n",
    "- $V_{OUT}$ = Output Voltage\n",
    "- $I_{OUT}$ = Maximum Load Current\n",
    "- $R_{DCR}$ = Inductor Resistance\n",
    "- $f_{SW}$  = Maximum Switching Frequency\n",
    "- $D_{MAX}$ = Maximum Duty Cycle (Constant)\n",
    "- $t_{ONMIN}$ = Minimum Controllable Switch On-time (Constant)\n",
    "\n",
    "Therefore, to raise the maximum input voltage, a lower switching frequency should be used."
   ]
  },
  {
   "cell_type": "code",
   "execution_count": 627,
   "metadata": {},
   "outputs": [
    {
     "name": "stdout",
     "output_type": "stream",
     "text": [
      "Absolute Minimum Input Voltage: 4.75 V\n",
      "Absolute Maximum Input Voltage: 51.56 V\n"
     ]
    }
   ],
   "source": [
    "# Calculate Absolute Input Voltages\n",
    "\n",
    "ABSOLUTE_MINIMUM_INPUT_VOLTAGE = \\\n",
    "    (OUTPUT_VOLTAGE + (MAXIMUM_LOAD_CURRENT * (INDUCTOR_RESISTANCE + 5))) / MAXIMUM_DUTY_CYCLE \\\n",
    "          + MAXIMUM_LOAD_CURRENT * 4.5\n",
    "print(f\"Absolute Minimum Input Voltage: {ABSOLUTE_MINIMUM_INPUT_VOLTAGE:.2f} V\")\n",
    "ABSOLUTE_MAXIMUM_INPUT_VOLTAGE = OUTPUT_VOLTAGE / \\\n",
    "    (MINIMUM_CONTROLLABLE_ON_TIME * (10**-9) * SWITCHING_FREQUENCY * (10**3))\n",
    "print(f\"Absolute Maximum Input Voltage: {ABSOLUTE_MAXIMUM_INPUT_VOLTAGE:.2f} V\")\n",
    "if(MAXIMUM_INPUT_VOLTAGE > ABSOLUTE_MAXIMUM_INPUT_VOLTAGE):\n",
    "    print(f\"Warning: Maximum Input Voltage {MAXIMUM_INPUT_VOLTAGE} V is greater than Absolute Maximum Input Voltage\")\n",
    "    print(\"Try lowering the switching frequency\")\n",
    "if(MINIMUM_INPUT_VOLTAGE < ABSOLUTE_MINIMUM_INPUT_VOLTAGE):\n",
    "    print(f\"Warning: Minimum Input Voltage {MINIMUM_INPUT_VOLTAGE} V is less than Absolute Minimum Input Voltage\")\n",
    "    print(\"Can you reduce the load current?\")\n",
    "    "
   ]
  },
  {
   "cell_type": "markdown",
   "metadata": {},
   "source": [
    "## Inductor Calculations\n",
    "\n",
    "From the datasheet, we use the following equation to calculate the inductor:\n",
    "\n",
    "$$L = \\frac{18000\\times V_{OUT}}{f_{SW}}$$\n",
    "\n",
    "We can then calculate the peak-peak ripple current, $\\Delta I$ for the minimum and maximum input voltages:\n",
    "\n",
    "$$\\Delta I=\\frac{1000 \\times V_{OUT}\\times \\left(1 - \\frac{V_{OUT}}{V_{IN}}\\right)}{f_{SW}\\times L}$$"
   ]
  },
  {
   "cell_type": "code",
   "execution_count": 628,
   "metadata": {},
   "outputs": [
    {
     "name": "stdout",
     "output_type": "stream",
     "text": [
      "Inductance: 118.80 μH\n",
      "Minimum Ripple Current: ±0.0454 mA\n",
      "Maximum Ripple Current: ±0.0517 mA\n"
     ]
    }
   ],
   "source": [
    "# Inductor Calculations\n",
    "\n",
    "inductance = (18000 * OUTPUT_VOLTAGE) / (SWITCHING_FREQUENCY)\n",
    "print(f\"Inductance: {inductance:.2f} μH\")\n",
    "\n",
    "# Peak-Peak Ripple Current\n",
    "\n",
    "minimum_ripple_current = 1000 * OUTPUT_VOLTAGE * (1 - (OUTPUT_VOLTAGE / MINIMUM_INPUT_VOLTAGE)) / (SWITCHING_FREQUENCY * inductance)\n",
    "print(f\"Minimum Ripple Current: ±{minimum_ripple_current:.4f} mA\")\n",
    "maximum_ripple_current = 1000 * OUTPUT_VOLTAGE * (1 - (OUTPUT_VOLTAGE / MAXIMUM_INPUT_VOLTAGE)) / (SWITCHING_FREQUENCY * inductance)\n",
    "print(f\"Maximum Ripple Current: ±{maximum_ripple_current:.4f} mA\")"
   ]
  },
  {
   "cell_type": "markdown",
   "metadata": {},
   "source": [
    "## Output Capacitance\n",
    "\n",
    "From the datasheet, the *minimum* output capacitance required is given by:\n",
    "\n",
    "$$C_{OUT} = \\frac{25}{V_{OUT}}$$\n",
    "\n",
    "where $C_{OUT}$ is given in μF."
   ]
  },
  {
   "cell_type": "code",
   "execution_count": 629,
   "metadata": {},
   "outputs": [
    {
     "name": "stdout",
     "output_type": "stream",
     "text": [
      "Minimum Output Capacitance: 7.58 μF\n"
     ]
    }
   ],
   "source": [
    "# Output Capacitor Selection\n",
    "\n",
    "output_capacitance = 25/OUTPUT_VOLTAGE\n",
    "print(f\"Minimum Output Capacitance: {output_capacitance:.2f} μF\")"
   ]
  },
  {
   "cell_type": "markdown",
   "metadata": {},
   "source": [
    "## Calculating UVLO Resistor Network\n",
    "\n",
    "A resistor divider network is used to divide the input voltage down.  The Enable pin is triggered on a maximum rising voltage of 1.3 V.  Therefore to ensure the device is enabled for the entire desired input range, the minimum input voltage is used to calculate this resistance.\n",
    "\n",
    "![UVLO Resistor Network](images/uvlo_network.png)"
   ]
  },
  {
   "cell_type": "code",
   "execution_count": 630,
   "metadata": {},
   "outputs": [
    {
     "name": "stdout",
     "output_type": "stream",
     "text": [
      "UVLO Resistor Ratio: 0.0778\n",
      "Assume UVLO Resistor 1: 1000 kΩ\n",
      "Calculate UVLO Resistor 2: 77.84 kΩ\n"
     ]
    }
   ],
   "source": [
    "# UVLO Resistor Calculations\n",
    "\n",
    "# Calculate the UVLO resistors for minimum input voltage and maximum enable threshold\n",
    "uvlo_resistor_ratio = ENABLE_THRESHOLD_RISING_MAXIMUM / \\\n",
    "    (MINIMUM_INPUT_VOLTAGE - ENABLE_THRESHOLD_RISING_MAXIMUM)\n",
    "print(\"UVLO Resistor Ratio: {:.4f}\".format(uvlo_resistor_ratio))\n",
    "# Calculate Resistors\n",
    "uvlo_resistor_1 = 1000 # Assume 1 MΩ\n",
    "uvlo_resistor_2 = uvlo_resistor_ratio * uvlo_resistor_1\n",
    "print(f\"Assume UVLO Resistor 1: {uvlo_resistor_1} kΩ\")\n",
    "print(f\"Calculate UVLO Resistor 2: {uvlo_resistor_2:.2f} kΩ\")\n"
   ]
  },
  {
   "cell_type": "markdown",
   "metadata": {},
   "source": [
    "## Calculating Output Voltage Divider Network\n",
    "\n",
    "Similarly to the UVLO configuration, the feedback pin uses a resistor divider to set the desired output voltage.  From the datasheet, the following equation is given:\n",
    "\n",
    "$$R_1 = R_2\\times \\left[\\frac{V_{OUT}}{0.8}-1\\right]$$\n",
    "\n",
    "![Output Voltage Divider Resistor Network](images/output_voltage_network.png)"
   ]
  },
  {
   "cell_type": "code",
   "execution_count": 631,
   "metadata": {},
   "outputs": [
    {
     "name": "stdout",
     "output_type": "stream",
     "text": [
      "Output Divider Ratio: 3.1250\n",
      "Assume Output Resistor 2: 47 kΩ\n",
      "Calculate Output Resistor 1: 146.87 kΩ\n"
     ]
    }
   ],
   "source": [
    "# Output Voltage Divider Calculations\n",
    "\n",
    "# Calculate the output voltage divider resistor ratio\n",
    "output_divider_ratio = OUTPUT_VOLTAGE/0.8 - 1\n",
    "print(\"Output Divider Ratio: {:.4f}\".format(output_divider_ratio))\n",
    "\n",
    "# Calculate Resistors\n",
    "output_resistor_2 = 47 # Assume 47 kΩ\n",
    "output_resistor_1 = output_divider_ratio * output_resistor_2\n",
    "print(f\"Assume Output Resistor 2: {output_resistor_2} kΩ\")\n",
    "print(f\"Calculate Output Resistor 1: {output_resistor_1:.2f} kΩ\")\n",
    "\n"
   ]
  },
  {
   "cell_type": "markdown",
   "metadata": {},
   "source": [
    "## Soft Start Capacitor\n",
    "\n",
    "If no capacitor is connected to the SS pin, and it is instead left floating, there is an internal soft start delay of 5.1 ms.  However, to adjust the soft-start time, and external capacitor can be added.\n",
    "\n",
    "If a capacitor is added, the minimum soft-start time is given by:\n",
    "\n",
    "$$t_{SS}>0.05\\times C_{OUT}\\times V_{OUT}$$\n",
    "\n",
    "where $t_{SS}$ is given in ms, and $C_{OUT}$ in μF.\n",
    "\n",
    "Given the soft-start time is greater than the minimum, the soft-start capacitor can be calculated with:\n",
    "\n",
    "$$C_{SS}=6.25\\times t_{SS}$$\n",
    "\n",
    "***Note*** $C_{SS}$ is in nF!"
   ]
  },
  {
   "cell_type": "code",
   "execution_count": 632,
   "metadata": {},
   "outputs": [
    {
     "name": "stdout",
     "output_type": "stream",
     "text": [
      "Soft Start Capacitance: Floating\n",
      "Minimum Soft Start Time: 1.25 ms\n"
     ]
    }
   ],
   "source": [
    "# Soft Start Capacitor Calculations\n",
    "if(SOFT_START_TIME != MINIMUM_SOFT_START_TIME):\n",
    "    soft_start_capacitance = 6.25 * SOFT_START_TIME\n",
    "    print(\"Soft Start Capacitance: {:.2f} nF\".format(soft_start_capacitance))\n",
    "else :\n",
    "    print(\"Soft Start Capacitance: Floating\")\n",
    "    soft_start_capacitance = 0\n",
    "\n",
    "# Calculate minimum soft start time for the output capacitance and voltage\n",
    "minimum_soft_start_time = 0.05 * output_capacitance * OUTPUT_VOLTAGE\n",
    "print(\"Minimum Soft Start Time: {:.2f} ms\".format(minimum_soft_start_time))\n",
    "\n",
    "if(SOFT_START_TIME < minimum_soft_start_time):\n",
    "    print(\"Warning: Soft Start Time is less than minimum soft start time\")\n",
    "    print(\"Increase the soft start time\")"
   ]
  },
  {
   "cell_type": "markdown",
   "metadata": {},
   "source": [
    "## Sync/RT Resistor\n",
    "\n",
    "The switching frequency can be set by adjusting the resistor $R_T$:\n",
    "\n",
    "$$R_T = \\frac{42000}{f_{SW}}$$\n",
    "\n",
    "***Note***: The switching frequency must be between 100kHz and 2.2Mhz, and the frequency ranges of 130kHz to 160kHz, and 230 kHz to 280 kHz are not allowed."
   ]
  },
  {
   "cell_type": "code",
   "execution_count": 633,
   "metadata": {},
   "outputs": [
    {
     "name": "stdout",
     "output_type": "stream",
     "text": [
      "RT/Sync Resistor for Desired Switching Frequency: 84.000 kΩ\n"
     ]
    }
   ],
   "source": [
    "# Sync Resistor Calculations\n",
    "\n",
    "# Calculate the RT/Sync Resistor for the desired switching frequency\n",
    "RT = 42000.0 / SWITCHING_FREQUENCY\n",
    "print(\"RT/Sync Resistor for Desired Switching Frequency: {:.3f} kΩ\".format(RT))\n",
    "\n",
    "# Check that the switching frequency is within the recommended range\n",
    "if SWITCHING_FREQUENCY < 100.0 or SWITCHING_FREQUENCY > 2200.0:\n",
    "    print(f\"WARNING: Switching Frequency {SWITCHING_FREQUENCY} kHz is outside of recommended range 100-2200 kHz\")\n",
    "# Check that the switching frequency is not within the blocked ranges\n",
    "if SWITCHING_FREQUENCY > 130.0 and SWITCHING_FREQUENCY < 160.0:\n",
    "    print(f\"WARNING: Switching Frequency {SWITCHING_FREQUENCY} kHz is within blocked range 130-160 kHz\")\n",
    "if SWITCHING_FREQUENCY > 230.0 and SWITCHING_FREQUENCY < 280.0:\n",
    "    print(f\"WARNING: Switching Frequency {SWITCHING_FREQUENCY} kHz is within blocked range 230-280 kHz\")\n"
   ]
  },
  {
   "cell_type": "markdown",
   "metadata": {},
   "source": [
    "## Conclusion\n",
    "\n",
    "Using the values calculated throughout this workbook, the suggested components are the following:\n",
    "\n",
    "![Typical Application Circuit](images/typical_application_circuit.png)\n",
    "\n",
    "***Note*** that the capacitor connected to SS should be $C_{SS}$."
   ]
  },
  {
   "cell_type": "code",
   "execution_count": 634,
   "metadata": {},
   "outputs": [
    {
     "name": "stdout",
     "output_type": "stream",
     "text": [
      "C_IN >= 1.00 μF\n",
      "R1 = 1000.00 kΩ\n",
      "R2 = 77.84 kΩ\n",
      "C_SS = 0.00 nF\n",
      "R3 = 84.000 kΩ\n",
      "L1 = 118.80 μH\n",
      "C_OUT = 7.58 μF\n",
      "C_F = 1.00 μF\n",
      "R7 = 0.02 kΩ\n",
      "R4 = 146.87 kΩ\n",
      "R5 = 47.00 kΩ\n",
      "R6 = 100.0 kΩ\n"
     ]
    }
   ],
   "source": [
    "print(f\"C_IN >= {MINIMUM_INPUT_CAPACITANCE:.2f} μF\")\n",
    "print(f\"R1 = {uvlo_resistor_1:.2f} kΩ\")\n",
    "print(f\"R2 = {uvlo_resistor_2:.2f} kΩ\")\n",
    "print(f\"C_SS = {soft_start_capacitance:.2f} nF\")\n",
    "print(f\"R3 = {RT:.3f} kΩ\")\n",
    "print(f\"L1 = {inductance:.2f} μH\")\n",
    "print(f\"C_OUT = {output_capacitance:.2f} μF\")\n",
    "if(OUTPUT_VOLTAGE >= 3.3 and OUTPUT_VOLTAGE <= 5):\n",
    "    print(f\"C_F = {DECOUPLE_CAPACITANCE:.2f} μF\")\n",
    "    print(f\"R7 = {DECOUPLE_RESISTANCE:.2f} kΩ\")\n",
    "else:\n",
    "    print(f\"C_F = 0.0 μF\")\n",
    "    print(f\"R7 = NC\")\n",
    "    print(f\"V_OUT should be tied to ground\")\n",
    "print(f\"R4 = {output_resistor_1:.2f} kΩ\")\n",
    "print(f\"R5 = {output_resistor_2:.2f} kΩ\")\n",
    "print(f\"R6 = {PULLUP_RESISTANCE} kΩ\")\n"
   ]
  },
  {
   "cell_type": "markdown",
   "metadata": {},
   "source": [
    "## Example\n",
    "\n",
    "This is an example of a 3.3 V, 50mA Regulator that takes advantage of PFM for light loads with a 300 kHz switching frequency:\n",
    "\n",
    "![3V3 Example Circuit](images\\3V3_example.png)"
   ]
  }
 ],
 "metadata": {
  "kernelspec": {
   "display_name": ".venv",
   "language": "python",
   "name": "python3"
  },
  "language_info": {
   "codemirror_mode": {
    "name": "ipython",
    "version": 3
   },
   "file_extension": ".py",
   "mimetype": "text/x-python",
   "name": "python",
   "nbconvert_exporter": "python",
   "pygments_lexer": "ipython3",
   "version": "3.12.7"
  }
 },
 "nbformat": 4,
 "nbformat_minor": 2
}
